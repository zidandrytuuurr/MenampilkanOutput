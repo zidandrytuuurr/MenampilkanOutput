{
 "cells": [
  {
   "cell_type": "markdown",
   "id": "a255a828-d05a-4505-89c7-ce5f4e8351db",
   "metadata": {},
   "source": [
    "Jika terdapat kalimat UNIVERSITAS NUSA PUTRA, buatlah kode program untuk menampilkan output: a. putra nusa b. NIVERSITAS NSA PTRA SKABMI c.SUKABUMI PUTRA NUSA UNIVERSITAS d. UNPS e. TAS SAPU BUMI"
   ]
  },
  {
   "cell_type": "code",
   "execution_count": 95,
   "id": "a78b6f1a-b69d-4650-972e-2952843af8af",
   "metadata": {},
   "outputs": [
    {
     "name": "stdout",
     "output_type": "stream",
     "text": [
      "PUTRA NUSA\n",
      "NIVERSITAS NSA PTRA SKABMI\n",
      "['SUKABUMI', 'PUTRA', 'NUSA', 'UNIVERSITAS']\n",
      "UNPS\n",
      "TAS SAPU BUMI\n"
     ]
    }
   ],
   "source": [
    "kalimat = \"UNIVERSITAS NUSA PUTRA SUKABUMI\"\n",
    "\n",
    "#kata (PUTRA NUSA)\n",
    "kata_pertama = kalimat.split() [2] + \" \" + kalimat.split()[1]\n",
    "print(kata_pertama)\n",
    "\n",
    "#kata (NIVERSITAS NSA PTRA SKBMI)\n",
    "kata_kedua = kalimat[1:11] + \" \" + kalimat[12] + \"\" + kalimat[14:18] + \"\" + kalimat[19] + \"\" + kalimat[20:24] + \"\" + kalimat[25:-3] + \"\" + kalimat[29:]\n",
    "print(kata_kedua)\n",
    "\n",
    "#kata (SUKABUMI PUTRA NUSA UNIVERSITAS)\n",
    "kata_ketiga = kalimat.split()[::-1]\n",
    "print(kata_ketiga)\n",
    "\n",
    "#kata (UNPS)\n",
    "kata_keempat = kalimat.split()[0][0] + \"\" + kalimat.split()[1][0] + \"\" + kalimat.split()[2][0] + \"\" + kalimat.split()[3][0]\n",
    "print(kata_keempat)\n",
    "\n",
    "#kata (TAS SAPU BUMI)\n",
    "kata_kelima = kalimat.split()[0][-3:] + \" \" + kalimat[14:16] + \"\" + kalimat[17:19] + \" \" + kalimat[27:]\n",
    "print(kata_kelima)"
   ]
  },
  {
   "cell_type": "code",
   "execution_count": null,
   "id": "9b1593c9-c157-499e-9e35-347e3a7e9b92",
   "metadata": {},
   "outputs": [],
   "source": []
  },
  {
   "cell_type": "code",
   "execution_count": null,
   "id": "5d90c5cd-e189-4c6d-8f04-8bb78486ce09",
   "metadata": {},
   "outputs": [],
   "source": []
  }
 ],
 "metadata": {
  "kernelspec": {
   "display_name": "Python 3 (ipykernel)",
   "language": "python",
   "name": "python3"
  },
  "language_info": {
   "codemirror_mode": {
    "name": "ipython",
    "version": 3
   },
   "file_extension": ".py",
   "mimetype": "text/x-python",
   "name": "python",
   "nbconvert_exporter": "python",
   "pygments_lexer": "ipython3",
   "version": "3.11.7"
  }
 },
 "nbformat": 4,
 "nbformat_minor": 5
}
